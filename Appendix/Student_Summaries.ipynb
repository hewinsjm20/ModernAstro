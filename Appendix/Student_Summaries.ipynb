{
 "cells": [
  {
   "attachments": {},
   "cell_type": "markdown",
   "metadata": {},
   "source": [
    "# Student Participation (Spring 2024)\n",
    "Students will work in pairs to produce summaries of each class meeting.  These summaries should list the main topics discussed and emphasized ideas/examples during the respective lecture.  Students are encouraged to be as detailed as possible without being overly verbose.  The summaries should be submitted as a [pull request](https://docs.github.com/en/codespaces/the-githubdev-web-based-editor) from **your forked repository** before the next class meeting.\n"
   ]
  },
  {
   "attachments": {},
   "cell_type": "markdown",
   "metadata": {},
   "source": [
    "## Jan 8\n",
    "\n",
    "## Class Overview \n",
    "  - This class uses the first half of An **Introduction to Modern Astrophysics** by Carroll & Ostlie (2007)\n",
    "    - *Cosmology covers the latter half*\n",
    "\n",
    "  - Class calender shows all expected exams and assighments due, and can be found here.\n",
    "    - [Course Schedule](https://calendar.google.com/calendar/u/0?cid=ZDQ4ZDMxZGYxYmVjNTY5YzZiOWQ0OWFkN2Y1NmZmZTFiMDQ4MzUyMzYzOGQ2MmQ2MWQwMWI0YzI5NzEyYTY2NEBncm91cC5jYWxlbmRhci5nb29nbGUuY29t)\n",
    "  \n",
    "**Syllabus**\n",
    "\n",
    "- Course includes  **2 presentations** and **3 exams**.\n",
    "- follows this grading split\n",
    "  - Relative Weights\n",
    "    - Teaching Pres. 10%\n",
    "    - Review Pres. 20%\n",
    "    - Exams 15% (each)\n",
    "    - Participation 10%\n",
    "    - Homework 15%\n",
    "\n",
    "\n",
    "- Exams\n",
    "  - **Two closed-book exams and one take-home**\n",
    "  - exams will be a mixture of multiple choice and free repsonse questions\n",
    "    - should resemble some homework questions\n",
    "\n",
    "- Course Presentations\n",
    "    1. requires the student to teach a data analysis or modeling skill\n",
    "using an open-source python package to the instructor and other students.\n",
    "  - uses Astropy \n",
    "  - **10 minutes long**\n",
    "    2. Pairs of students will also present a full review of a topic within astrophysics.\n",
    "  -  **20 minutes long** with a **5 min** period for questions.\n",
    "\n",
    "- Grading Scale\n",
    "  - A 88 -- 100%\n",
    "  - B 77 -- 87%\n",
    "  - C 66 -- 76%\n",
    "  - D 55 -- 65%\n",
    "  - F <54%\n",
    "\n",
    "- Office hours\n",
    "  - 11am – 12 pm, MWF,\n",
    "  - 10:00 – 11:00am TR,\n",
    "\n",
    "**Course website**\n",
    "- all the course website can be viewed in the **code version** of the website \n",
    "  - useful for seeing how billy took certain notes \n",
    "\n",
    "---\n",
    "**GitHub accounts**\n",
    "\n",
    "- to have a personal version of the raw version of the notes, you must **fork** the orignal repository\n",
    "  - https://github.com/saturnaxis/ModernAstro\n",
    "\n",
    "- to submit notes\n",
    "  1. in word or collab, write the notes\n",
    "  2. in the **forked** repository go to the **appendix** file and open the **Student_Summaries.ipynb** file\n",
    "  3. click the pencil icon to edit the file in **github.dev**  \n",
    "  4. then copy your written notes into the github.dev version of the code\n",
    "  5. If you didnt write your notes in collab, you can instead write the notes in the github.dev version of the notes\n",
    "  6. Once you are done writing the notes, click the **Source Control** icon to commit & push the updated version of code to youre forked repository \n",
    "  8. Look to see if the notes look correct, if they do, submit a **pull request** to get it added to main repository\n",
    "  9. Billy will get an email and push the request if the notes looks passable\n",
    "  10. Done\n",
    "\n",
    "- *tip when wirting notes collaborative*\n",
    "  - *it is much easier to have one google collab and then share it with the person you are paired to, rather than using word or anything else*"
   ]
  },
  {
   "attachments": {},
   "cell_type": "markdown",
   "metadata": {},
   "source": [
    "## Jan 10 \n",
    "### Continuous Spectrum of Light Part I\n",
    "\n",
    "- **1.1 Stellar Parallax** \n",
    "        \n",
    "    - **Trigonometric parallax**: measurement of angular displacement of an object from two different vantage points creating a known baseline distance $B$ between observers. $d = B/tan(p)$. $tan(p)$ comes from small angle approximations, so we can use $p\"$ (\" standing for arcseconds) for angle values smaller than $1$ arcsecond.\n",
    "\n",
    "\n",
    "    - The angles at which these stars move relative to the much more distant stars in the background are very small.\n",
    "\n",
    "\n",
    "    - $3600$ arcseconds per $1$ degree because of $1/60/60 = 1/3600$. You have $360$ degrees of sky, split $1$ of those degrees into $60$ pieces, giving you $60$ arcminutes. Then you take $1$ of those arcminutes and split that into $60$ pieces, giving you $60$ arcseconds.\n",
    "\n",
    "\n",
    "    - Arcseconds are very small amounts of angle, and can be divided further for smaller movements across the night sky. Example: Proxima Centauri has a parallax angle of less than $1\"$.\n",
    "\n",
    "\n",
    "    - We measure stellar distances in units of parsecs (**par**allax-**sec**onds), 206,265 AU per parsec (great distance).\n",
    "\n",
    "\n",
    "    - First successful measurement of stellar parallax in 1838 by **Fredrich Bessel** (1784-1846).\n",
    "\n",
    "\n",
    "    - $1 pc = 3.2615638 ly$\n",
    "\n",
    "\n",
    "    - Objects with small parallax angles have interfering conditions such as geologic tremors or atmospheric turbulence which make it hard to find accurate angles. Space missions such as Hipparcos don't have this problem.\n",
    "\n",
    "\n",
    "- **1.2 The Magnitude Scale** \n",
    "    \n",
    "- **1.2.1 Apparent Magnitude**\n",
    "\n",
    "    - **Hipparchus** compiled a list of ~850 stars (some found by Persians before, he just added to the list and listed previously known ones) and compared their brightness. Later examinations of his scale showed that it was logarithmic because the human eye perceives the brightness of objects logarithmically.\n",
    "\n",
    "\n",
    "    - Example: if a bright light source were $6$ times brighter than another, the human eye will determine the brighter object as approximately twice the brightness of the other.\n",
    "\n",
    "\n",
    "    - This means that the difference in brightness between two different magnitude stars is $100^{(m2-m1)/5}= ΔB$. Two stars separated by $1$ magnitude have a difference in brightness of $2.512$ times, or $100^{1/5}$. Two stars separated by 5 magnitudes have $100$ times difference in brightness.\n",
    "\n",
    "- **1.2.2 Flus, Luminosity, and the Inverse Square Law** \n",
    "\n",
    "    - **Radiant flux F** is the brightness of a star measured by the total amount of radiation at all wavelengths that cross a unit of area per unit time. Definition depends on the energy emitted per second at the stellar surface (intrinsic luminosity $L$)\n",
    "\n",
    "\n",
    "    - Luminosity $L$ is distributed uniformly across the surface area of a shell of radius $r$ surrounding a star.\n",
    "\n",
    "\n",
    "    - This is the well-known inverse square law for light. The $4π$ factor is not necessarily needed as the radiant flux of some stars are given relative to the Solar Luminosity (L_sol) and the Earth-Sun distance (r_earth).\n",
    "\n",
    "\n",
    "    - $F = L/4πr^2$\n",
    "\n",
    "\n",
    "    - Denominator of the flux formula is the radius of a sphere.\n",
    "\n",
    "\n",
    "    - It is good to determine the luminosity of some stars relative to known quantities like **solar flux**. Example: what is the flux of a star that is half as bright but at the same distance as the Sun? (it would be half as bright, so half as much flux)\n",
    "\n",
    "\n",
    "    - Solar flux is $1361 W/m^2$\n",
    "\n",
    "- **1.2.3 Flux Ratios and Apparent Magnitude**\n",
    "\n",
    "    - **Absolute magnitude M** of a star is the apparent magnitude a star would have if it were located at a distance of $10 pc$. We can find the ratio of their flux to be, ${\\frac{F_2}{F_1}} = 100^{m_1-m_2/5}$\n",
    "\n",
    "\n",
    "    - Logarithm of both sides of the flux ratio above gives an alternative form: $m_1-m_2 = -2.5log_{10}{\\frac{F_2}{F_1}}$\n",
    "\n",
    "- **1.2.4 Absolute Magnitude and the Distance Modulus**\n",
    "\n",
    "    - **Distance modulus**: $m-M = 5log_{10}(d)-5 = 5log_{10}{\\frac{d}{10 parsecs}}$\n",
    "\n",
    "\n",
    "    - How bright a star would be if it were $10 pc$ away is called the absolute magnitude\n",
    "\n",
    "\n",
    "    - Multiply the $10$ over from $d/10 pc = 10^{(m-M)/5}$ and that gives you the +5 being added to the two magnitudes in the exponent\n",
    "\n",
    "\n",
    "    - goes from $10^{-6}$ to $10^{-7}$ because the $d/10$ you are just dividing by $10^{1}$ to make a more negative exponent.\n",
    "\n",
    "\n",
    "    - M_Sun needs to be written out as \"Sun\" in the subscript, otherwise putting a circle dot would make the quantity the mass of the Sun.\n",
    "\n",
    "- **1.3 The Wave Nature of Light**\n",
    "\n",
    "- **1.3.1 The Speed of Light**\n",
    "\n",
    "    - Ole Roemer determined that the speed of light was finite by extensive measurements of Jupiter's moons eclipsing when Earth was near the opposite side of the Sun compared to Jupiter.\n",
    "\n",
    "\n",
    "    - He used Kepler's original third law without universal gravitation. It wasn't until 1761 until we found out the distance of an AU, so that also hampered the mathematics needed to calculate the speed of light.\n",
    "\n",
    "- **1.3.2 Young's Double-Slit Experiment**\n",
    "\n",
    "    - **Christian Huygens** (1629-1695) suggested that light was and behaved similarly to waves, with wavelengths, crests, and troughs.\n",
    "\n",
    "\n",
    "    - c = (wavelength)(frequency)\n",
    "\n",
    "\n",
    "    - Thomas Young's double-slit experiment: two waves of light interfering with each other going through the slits. **Destructive interference** occurs when the peaks and troughs of the light wave cancel eachother, making darker parts on the screen. **Constructive interference** occurs when there are brighter fringes.\n",
    "\n",
    "- **1.3.3 Maxwell's Electromagnetic Wave Theory**\n",
    "\n",
    "    - Breakthrough in nature of light waves from Scottish mathematical physicist **James Clerk Maxwell (1831-1879)**.\n",
    "\n",
    "\n",
    "    - Electromagnetic waves are transverse waves with an **Electric field E** and **magnetic field B** component.\n",
    "\n",
    "- **1.3.4 The Poynting Vector and Radiation Pressure**\n",
    "\n",
    "    - EM waves carry both energy and momentum in the direction of propagation. The rate at which energy is carried by a light wave is described by the Poynting vector.\n",
    "\n",
    "\n",
    "    - $S=\\frac{1}{\\mu_0}ExB$\n",
    "\n",
    "\n",
    "    - The Poynting vector is reliant on the cross product of the electric and magnetic field components of the EM wave. The units are in watts per meter squared $W m^{-2}$.\n",
    "\n",
    "\n",
    "    - When EM waves reflect off of a surface at a certain angle $θ$ because it is conserving momentum upon impact, causing it to go in another direction."
   ]
  },
  {
   "cell_type": "markdown",
   "metadata": {},
   "source": [
    "## Jan 15 (MLK Day)\n",
    "### No Class"
   ]
  },
  {
   "cell_type": "markdown",
   "metadata": {},
   "source": [
    "## Jan 17\n",
    "### Continuous Spectrum of Light Part II"
   ]
  },
  {
   "cell_type": "markdown",
   "metadata": {},
   "source": [
    "## Jan 22\n",
    "### Interaction of Matter and Light Part I"
   ]
  },
  {
   "cell_type": "markdown",
   "metadata": {},
   "source": [
    "## Jan 24\n",
    "### Interaction of Matter and Light Part II"
   ]
  },
  {
   "cell_type": "markdown",
   "metadata": {},
   "source": [
    "## Jan 29\n",
    "### Telescopes Part I"
   ]
  },
  {
   "cell_type": "markdown",
   "metadata": {},
   "source": [
    "## Jan 31\n",
    "### Telescopes Part II"
   ]
  },
  {
   "cell_type": "markdown",
   "metadata": {},
   "source": [
    "## Feb 5\n",
    "### Classification of Stellar Spectra Part I"
   ]
  },
  {
   "cell_type": "markdown",
   "metadata": {},
   "source": [
    "## Feb 7\n",
    "### Classification of Stellar Spectra Part II"
   ]
  },
  {
   "cell_type": "markdown",
   "metadata": {},
   "source": [
    "## Feb 12 (Exam I)\n",
    "### Exam I"
   ]
  },
  {
   "cell_type": "markdown",
   "metadata": {},
   "source": [
    "## Feb 14\n",
    "### Stellar Atmospheres Part I"
   ]
  },
  {
   "cell_type": "markdown",
   "metadata": {},
   "source": [
    "## Feb 19\n",
    "### Stellar Atmospheres Part II"
   ]
  },
  {
   "cell_type": "markdown",
   "metadata": {},
   "source": [
    "## Feb 21\n",
    "### Stellar Atmospheres Part III"
   ]
  },
  {
   "cell_type": "markdown",
   "metadata": {},
   "source": [
    "## Feb 26 \n",
    "### The Sun Part I"
   ]
  },
  {
   "cell_type": "markdown",
   "metadata": {},
   "source": [
    "## Feb 28 \n",
    "### The Sun Part II"
   ]
  },
  {
   "cell_type": "markdown",
   "metadata": {},
   "source": [
    "## Mar 4\n",
    "### The Interiors of Stars Part I\n",
    "### Teaching Presentations"
   ]
  },
  {
   "cell_type": "markdown",
   "metadata": {},
   "source": [
    "## Mar 6\n",
    "### The Interiors of Stars Part II\n",
    "### Teaching Presentations"
   ]
  },
  {
   "cell_type": "markdown",
   "metadata": {},
   "source": [
    "## Mar 11 \\& 13 (Spring Break)\n",
    "### No Class"
   ]
  },
  {
   "cell_type": "markdown",
   "metadata": {},
   "source": [
    "## Mar 18\n",
    "### The Interiors of Stars Part III\n",
    "### Teaching Presentations"
   ]
  },
  {
   "cell_type": "markdown",
   "metadata": {},
   "source": [
    "## Mar 20\n",
    "### The Interiors of Stars Part IV\n",
    "### Teaching Presentations"
   ]
  },
  {
   "cell_type": "markdown",
   "metadata": {},
   "source": [
    "## Mar 25 \n",
    "### The Interstellar Medium and Star Formation Part I"
   ]
  },
  {
   "cell_type": "markdown",
   "metadata": {},
   "source": [
    "## Mar 27 (Exam II take-home)\n",
    "### The Interstellar Medium and Star Formation Part II"
   ]
  },
  {
   "cell_type": "markdown",
   "metadata": {},
   "source": [
    "## Apr 1\n",
    "### Main-Sequence and Post-Main-Sequence Stellar Evolution Part I"
   ]
  },
  {
   "cell_type": "markdown",
   "metadata": {},
   "source": [
    "## Apr 3\n",
    "### Main-Sequence and Post-Main-Sequence Stellar Evolution Part II"
   ]
  },
  {
   "cell_type": "markdown",
   "metadata": {},
   "source": [
    "## Apr 8\n",
    "### Stellar Pulsation "
   ]
  },
  {
   "cell_type": "markdown",
   "metadata": {},
   "source": [
    "## Apr 10\n",
    "### The Fate of Massive Stars Part I "
   ]
  },
  {
   "cell_type": "markdown",
   "metadata": {},
   "source": [
    "## Apr 15\n",
    "### The Fate of Massive Stars Part II"
   ]
  },
  {
   "cell_type": "markdown",
   "metadata": {},
   "source": [
    "## Apr 17\n",
    "### The Degenerate Remnants of Stars Part I"
   ]
  },
  {
   "cell_type": "markdown",
   "metadata": {},
   "source": [
    "## Apr 22\n",
    "### The Degenerate Remnants of Stars Part II"
   ]
  },
  {
   "cell_type": "markdown",
   "metadata": {},
   "source": [
    "## Apr 24\n",
    "### Review Paper Presentations"
   ]
  },
  {
   "cell_type": "markdown",
   "metadata": {},
   "source": [
    "## Apr 29\n",
    "### Review Paper Presentations"
   ]
  },
  {
   "cell_type": "markdown",
   "metadata": {},
   "source": [
    "## May 2 (Final Exam)\n",
    "### Final Exam (2:45 pm – 4:45 pm)"
   ]
  }
 ],
 "metadata": {
  "kernelspec": {
   "display_name": "base",
   "language": "python",
   "name": "python3"
  },
  "language_info": {
   "codemirror_mode": {
    "name": "ipython",
    "version": 3
   },
   "file_extension": ".py",
   "mimetype": "text/x-python",
   "name": "python",
   "nbconvert_exporter": "python",
   "pygments_lexer": "ipython3",
   "version": "3.8.8"
  },
  "orig_nbformat": 4,
  "vscode": {
   "interpreter": {
    "hash": "b46b6cd7437fccd56f9d889ab8b597852de90099948480230438ac6eaaa10679"
   }
  }
 },
 "nbformat": 4,
 "nbformat_minor": 2
}
